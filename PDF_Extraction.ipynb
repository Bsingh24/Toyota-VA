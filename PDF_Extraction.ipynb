{
  "nbformat": 4,
  "nbformat_minor": 0,
  "metadata": {
    "colab": {
      "provenance": [],
      "collapsed_sections": [
        "UIVGqrQ0_0Ra",
        "0qdUmz29FEqm",
        "ncc1XRcq65iW"
      ],
      "authorship_tag": "ABX9TyOYGAaRuTLRgxF4ZcOrE6Nw",
      "include_colab_link": true
    },
    "kernelspec": {
      "name": "python3",
      "display_name": "Python 3"
    },
    "language_info": {
      "name": "python"
    }
  },
  "cells": [
    {
      "cell_type": "markdown",
      "metadata": {
        "id": "view-in-github",
        "colab_type": "text"
      },
      "source": [
        "<a href=\"https://colab.research.google.com/github/Bsingh24/Toyota-VA/blob/main/PDF_Extraction.ipynb\" target=\"_parent\"><img src=\"https://colab.research.google.com/assets/colab-badge.svg\" alt=\"Open In Colab\"/></a>"
      ]
    },
    {
      "cell_type": "markdown",
      "source": [
        "#Text Extraction Process"
      ],
      "metadata": {
        "id": "jVwN6uAMIDh4"
      }
    },
    {
      "cell_type": "code",
      "source": [
        "!pip install pymupdf\n",
        "import pymupdf\n",
        "import re"
      ],
      "metadata": {
        "colab": {
          "base_uri": "https://localhost:8080/"
        },
        "id": "wL_oym-SxCAW",
        "outputId": "49facce6-0a5b-4b51-e81f-99dcc7bd25de"
      },
      "execution_count": null,
      "outputs": [
        {
          "output_type": "stream",
          "name": "stdout",
          "text": [
            "Collecting pymupdf\n",
            "  Downloading PyMuPDF-1.24.13-cp39-abi3-manylinux2014_x86_64.manylinux_2_17_x86_64.whl.metadata (3.4 kB)\n",
            "Downloading PyMuPDF-1.24.13-cp39-abi3-manylinux2014_x86_64.manylinux_2_17_x86_64.whl (19.8 MB)\n",
            "\u001b[2K   \u001b[90m━━━━━━━━━━━━━━━━━━━━━━━━━━━━━━━━━━━━━━━━\u001b[0m \u001b[32m19.8/19.8 MB\u001b[0m \u001b[31m72.5 MB/s\u001b[0m eta \u001b[36m0:00:00\u001b[0m\n",
            "\u001b[?25hInstalling collected packages: pymupdf\n",
            "Successfully installed pymupdf-1.24.13\n"
          ]
        }
      ]
    },
    {
      "cell_type": "code",
      "source": [
        "def remove_randoms(pge):\n",
        "  i = 0\n",
        "  pge.remove(pge[0])\n",
        "  pge.remove(pge[0])\n",
        "  while i < len(pge):\n",
        "    if pge[i] == '4RUNNER (U)':\n",
        "      j = 0\n",
        "      while j < i + 1:\n",
        "        pge.remove(pge[0])\n",
        "        j += 1\n",
        "    i += 1\n",
        "\n",
        "  i = 0\n",
        "  while i < len(pge):\n",
        "    if pge[i].find('(') != -1:\n",
        "      a = pge[i].find('(')\n",
        "      b = pge[i].find(')')\n",
        "      to_remove = pge[i][a:b + 1]\n",
        "      pge[i] = pge[i].replace(to_remove, '')\n",
        "    if pge[i].find(r\"■\") != -1:\n",
        "      pge[i] = re.sub('■', '', pge[i])\n",
        "    if pge[i].find(r\"●\") != -1:\n",
        "      pge[i] = re.sub('●', '', pge[i])\n",
        "    if pge[i].find(r\"\") != -1:\n",
        "      pge[i] = re.sub('', '', pge[i])\n",
        "    if pge[i].find(r\"◆\") != -1:\n",
        "      pge[i] = re.sub('◆', '', pge[i])\n",
        "    if pge[i].find(r\"•\") != -1:\n",
        "      pge[i] = re.sub('•', '', pge[i])\n",
        "    if pge[i].find(r\"\") != -1:\n",
        "      pge[i] = re.sub('', '', pge[i])\n",
        "    if pge[i].find(r\"\") != -1:\n",
        "      pge[i] = re.sub('', '', pge[i])\n",
        "    i += 1\n",
        "  return pge"
      ],
      "metadata": {
        "id": "AfUJCSCMAJRZ"
      },
      "execution_count": null,
      "outputs": []
    },
    {
      "cell_type": "code",
      "source": [
        "def empty_line_removal(pge):\n",
        "  for i in range(len(pge)):\n",
        "    pge[i] = pge[i].strip()\n",
        "  pge = list(filter(None, pge))\n",
        "  return pge"
      ],
      "metadata": {
        "id": "B62HCJyEGkbw"
      },
      "execution_count": null,
      "outputs": []
    },
    {
      "cell_type": "code",
      "source": [
        "def dashremoval(pge):\n",
        "  i = 0\n",
        "  while i < len(pge) - 1:\n",
        "    if pge[i][-1] == \"-\":\n",
        "      pge[i] = re.sub('-', '', pge[i])\n",
        "      pge[i] = pge[i] + pge[i+1]\n",
        "      pge.remove(pge[i+1])\n",
        "      i = 0\n",
        "    i += 1\n",
        "  return pge"
      ],
      "metadata": {
        "id": "w1cnuafKI84Q"
      },
      "execution_count": null,
      "outputs": []
    },
    {
      "cell_type": "code",
      "source": [
        "def sentence_combine(pge):\n",
        "  checkpoint = []\n",
        "  for i in range(len(pge)):\n",
        "    if pge[i][-1] == '.':\n",
        "      checkpoint.append(i)\n",
        "\n",
        "  start = 0\n",
        "  final_product = []\n",
        "  for i in checkpoint:\n",
        "    j = start\n",
        "    sentence = []\n",
        "    while j <= i:\n",
        "      sentence.append(pge[j])\n",
        "      j += 1\n",
        "    final_product.append(' '.join(sentence))\n",
        "\n",
        "    start = i + 1\n",
        "  return ' '.join(final_product)"
      ],
      "metadata": {
        "id": "TF5DyPAFL87n"
      },
      "execution_count": null,
      "outputs": []
    },
    {
      "cell_type": "code",
      "source": [
        "from google.colab import drive\n",
        "drive.mount('/content/drive')"
      ],
      "metadata": {
        "colab": {
          "base_uri": "https://localhost:8080/"
        },
        "id": "Wc0sXhQCKbIA",
        "outputId": "42155327-cc77-4992-8508-69c12217c8b9"
      },
      "execution_count": null,
      "outputs": [
        {
          "output_type": "stream",
          "name": "stdout",
          "text": [
            "Mounted at /content/drive\n"
          ]
        }
      ]
    },
    {
      "cell_type": "code",
      "source": [
        "%cd /content/drive/MyDrive/CMPE 259/Project/Documents\n",
        "%mkdir Extracted_Documents\n",
        "!ls"
      ],
      "metadata": {
        "colab": {
          "base_uri": "https://localhost:8080/"
        },
        "id": "dRT9J2O1K6em",
        "outputId": "985f596b-a205-4850-8e86-b238af40e08c"
      },
      "execution_count": null,
      "outputs": [
        {
          "output_type": "stream",
          "name": "stdout",
          "text": [
            "/content/drive/MyDrive/CMPE 259/Project/Documents\n",
            "4Runner.pdf\t\tCorolla.pdf\t\t   HighlanderHybrid.pdf  RAV4Prime.pdf\n",
            "bZ4X.pdf\t\tCrown.pdf\t\t   Highlander.pdf\t SequoiaHybrid.pdf\n",
            "CamryHybrid.pdf\t\tExtracted_Documents\t   LandCruiser.pdf\t SiennaHybrid.pdf\n",
            "Camry.pdf\t\tGR86.pdf\t\t   Mirai.pdf\t\t TacomaiForceMax.pdf\n",
            "CorollaCrossHybrid.pdf\tGrandHighlanderHybrid.pdf  Prius.pdf\t\t Tacoma.pdf\n",
            "CorollaCross.pdf\tGrandHighlander.pdf\t   PriusPrime.pdf\t TundraHybrid.pdf\n",
            "CorollaHatch.pdf\tGRCorolla.pdf\t\t   RAV4Hybrid.pdf\t Tundra.pdf\n",
            "CorollaHybrid.pdf\tGRSupra.pdf\t\t   RAV4.pdf\t\t VenzaHybrid.pdf\n"
          ]
        }
      ]
    },
    {
      "cell_type": "code",
      "source": [
        "files = [\"4Runner.pdf\", \"Corolla.pdf\", \"Highlander.pdf\", \"SequoiaHybrid.pdf\",\n",
        "          \"bZ4X.pdf\", \"Crown.pdf\", \"LandCruiser.pdf\", \"SiennaHybrid.pdf\",\n",
        "          \"CamryHybrid.pdf\",\t\t\"GR86.pdf\", \"Mirai.pdf\", \"TacomaiForceMax.pdf\",\n",
        "          \"Camry.pdf\", \"GrandHighlanderHybrid.pdf\", \"Prius.pdf\", \"Tacoma.pdf\",\n",
        "          \"CorollaCrossHybrid.pdf\",\t\"GrandHighlander.pdf\", \"PriusPrime.pdf\", \"TundraHybrid.pdf\",\n",
        "          \"CorollaCross.pdf\",\t\"GRCorolla.pdf\", \"RAV4Hybrid.pdf\", \"Tundra.pdf\",\n",
        "          \"CorollaHatch.pdf\",\t\"GRSupra.pdf\", \"RAV4.pdf\", \"VenzaHybrid.pdf\",\n",
        "          \"CorollaHybrid.pdf\", \"HighlanderHybrid.pdf\", \"RAV4Prime.pdf\"]"
      ],
      "metadata": {
        "id": "9VTeewQGMA1m"
      },
      "execution_count": null,
      "outputs": []
    },
    {
      "cell_type": "code",
      "source": [
        "for file in files:\n",
        "  product = []\n",
        "  doc = pymupdf.open(file)\n",
        "  print(file[:-4])\n",
        "  for i in range(len(doc)):\n",
        "    pge = doc[i].get_text().split('\\n')\n",
        "    pge = remove_randoms(pge)\n",
        "    pge = empty_line_removal(pge)\n",
        "    pge = dashremoval(pge)\n",
        "    product.append(sentence_combine(pge))\n",
        "\n",
        "  product = list(filter(None, product))\n",
        "  text = ' '.join(product)\n",
        "  start = text.find('For safe use Use')\n",
        "  end = text.find(\"https://www.tc.gc.ca/recalls\")\n",
        "  with open(f'Extracted_Documents/{file[:-4]}_Extracted.txt', 'w',) as f:\n",
        "      f.write(text[start+13:end+29]) if end != -1 and start != -1 else f.write(text)"
      ],
      "metadata": {
        "id": "1MaE6u_FAik-",
        "colab": {
          "base_uri": "https://localhost:8080/"
        },
        "outputId": "d60f997f-77d1-49d8-df74-a38e7a4018d5"
      },
      "execution_count": null,
      "outputs": [
        {
          "output_type": "stream",
          "name": "stdout",
          "text": [
            "4Runner\n",
            "Corolla\n",
            "Highlander\n",
            "SequoiaHybrid\n",
            "bZ4X\n",
            "Crown\n",
            "LandCruiser\n",
            "SiennaHybrid\n",
            "CamryHybrid\n",
            "GR86\n",
            "Mirai\n",
            "TacomaiForceMax\n",
            "Camry\n",
            "GrandHighlanderHybrid\n",
            "Prius\n",
            "Tacoma\n",
            "CorollaCrossHybrid\n",
            "GrandHighlander\n",
            "PriusPrime\n",
            "TundraHybrid\n",
            "CorollaCross\n",
            "GRCorolla\n",
            "RAV4Hybrid\n",
            "Tundra\n",
            "CorollaHatch\n",
            "GRSupra\n",
            "RAV4\n",
            "VenzaHybrid\n",
            "CorollaHybrid\n",
            "HighlanderHybrid\n",
            "RAV4Prime\n"
          ]
        }
      ]
    }
  ]
}